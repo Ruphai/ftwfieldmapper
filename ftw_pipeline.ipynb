{
 "cells": [
  {
   "cell_type": "code",
   "execution_count": 1,
   "id": "d69205f4",
   "metadata": {},
   "outputs": [],
   "source": [
    "import os\n",
    "os.environ[\"CUDA_VISIBLE_DEVICES\"] = \"0\""
   ]
  },
  {
   "cell_type": "code",
   "execution_count": 2,
   "id": "074e26a0",
   "metadata": {},
   "outputs": [],
   "source": [
    "import time\n",
    "\n",
    "import numpy as np\n",
    "import torch\n",
    "from torch.utils.data import DataLoader\n",
    "from torchgeo.datamodules import BaseDataModule\n",
    "from torchgeo.trainers import BaseTask\n",
    "from torchmetrics import JaccardIndex, MetricCollection, Precision, Recall\n",
    "from tqdm import tqdm\n",
    "\n",
    "from src.ftw.datamodules import preprocess, FTWDataModule\n",
    "from src.ftw.datasets import FTW\n",
    "from src.ftw.metrics import get_object_level_metrics\n",
    "from src.ftw.trainers import CustomSemanticSegmentationTask"
   ]
  },
  {
   "cell_type": "code",
   "execution_count": 3,
   "id": "9d8399d6",
   "metadata": {},
   "outputs": [],
   "source": [
    "if torch.cuda.is_available():\n",
    "    device = torch.device(f\"cuda:{gpu}\")\n",
    "else:\n",
    "    device = torch.device(\"cpu\")"
   ]
  },
  {
   "cell_type": "code",
   "execution_count": 4,
   "id": "0ce02135",
   "metadata": {},
   "outputs": [
    {
     "name": "stdout",
     "output_type": "stream",
     "text": [
      "Using device: cpu\n"
     ]
    }
   ],
   "source": [
    "print(f\"Using device: {device}\")"
   ]
  },
  {
   "cell_type": "code",
   "execution_count": null,
   "id": "12df55d5",
   "metadata": {},
   "outputs": [
    {
     "name": "stdout",
     "output_type": "stream",
     "text": [
      "Loaded datamodule with:\n",
      "Train countries: ['france']\n",
      "Val countries: ['france']\n",
      "Test countries: ['france']\n",
      "Number of samples: -1\n"
     ]
    }
   ],
   "source": [
    "# FTWDataModule = FTWDataModule(\n",
    "#     batch_size=64,\n",
    "#     num_workers=4,\n",
    "#     train_countries = [\"france\"],\n",
    "#     val_countries = [\"france\"],\n",
    "#     test_countries = [\"france\"],\n",
    "#     temporal_options = \"windowB\" , # \"windowA\", \"windowB\" , \"median\"\n",
    "#     load_boundaries = True,\n",
    "#     num_samples = -1\n",
    "# )\n",
    "# # # FTWDataModule.prepare_data()\n",
    "# # train_dataset = FTWDataModule.setup(stage=\"fit\")\n",
    "# # train_dataloader = DataLoader(\n",
    "# #                             train_dataset,\n",
    "# #                             batch_size=64,\n",
    "# #                             shuffle=True,\n",
    "# #                             num_workers=12\n",
    "# #                             )\n",
    "\n",
    "# # val_dataset = FTWDataModule.setup(stage=\"validate\")\n",
    "# # val_dataloader = DataLoader(\n",
    "# #                             val_dataset,\n",
    "# #                             batch_size=64,\n",
    "# #                             shuffle=False,\n",
    "# #                             num_workers=12\n",
    "# #                             )\n",
    "# # test_dataset = FTWDataModule.setup(stage=\"test\")\n",
    "# # test_dataloader = DataLoader(\n",
    "# #                             test_dataset,\n",
    "# #                             batch_size=64,\n",
    "# #                             shuffle=False,\n",
    "# #                             num_workers=12\n",
    "# #                             )"
   ]
  },
  {
   "cell_type": "code",
   "execution_count": 27,
   "id": "d89365c4",
   "metadata": {},
   "outputs": [
    {
     "name": "stdout",
     "output_type": "stream",
     "text": [
      "Loading 3 Class Masks, with Boundaries\n",
      "Temporal option:  windowB\n",
      "Selecting :  2773  samples\n",
      "Loading 3 Class Masks, with Boundaries\n",
      "Temporal option:  windowB\n",
      "Selecting :  339  samples\n",
      "Loading 3 Class Masks, with Boundaries\n",
      "Temporal option:  windowB\n",
      "Selecting :  396  samples\n"
     ]
    }
   ],
   "source": [
    "train_ds = FTW(\n",
    "        root=\"/home/airg/rbalogun/ftwfieldmapper/data/ftw_data\",\n",
    "        countries=[\"france\"],\n",
    "        split=\"train\",\n",
    "        # transforms=preprocess,\n",
    "        load_boundaries=True,\n",
    "        temporal_options=\"windowB\" , # \"windowA\", \"windowB\" , \"median\"\n",
    "    )\n",
    "train_dl = DataLoader(train_ds, batch_size=64, shuffle=True, num_workers=12)\n",
    "\n",
    "val_ds = FTW(\n",
    "        root=\"/home/airg/rbalogun/ftwfieldmapper/data/ftw_data\",\n",
    "        countries=[\"france\"],\n",
    "        split=\"val\",\n",
    "        # transforms=preprocess,\n",
    "        load_boundaries=True,\n",
    "        temporal_options=\"windowB\" \n",
    "    )\n",
    "val_dl = DataLoader(val_ds, batch_size=64, shuffle=False, num_workers=12)\n",
    "\n",
    "test_ds = FTW(\n",
    "        root=\"/home/airg/rbalogun/ftwfieldmapper/data/ftw_data\",\n",
    "        countries=[\"france\"],\n",
    "        split=\"test\",\n",
    "        # transforms=preprocess,\n",
    "        load_boundaries=True,\n",
    "        temporal_options=\"windowB\" \n",
    "    )\n",
    "val_dl = DataLoader(test_ds, batch_size=64, shuffle=False, num_workers=12)"
   ]
  },
  {
   "cell_type": "code",
   "execution_count": 26,
   "id": "0db7960f",
   "metadata": {},
   "outputs": [
    {
     "data": {
      "text/plain": [
       "dict_keys(['image', 'mask'])"
      ]
     },
     "execution_count": 26,
     "metadata": {},
     "output_type": "execute_result"
    }
   ],
   "source": [
    "val_dl.dataset.__getitem__(0).keys()"
   ]
  },
  {
   "cell_type": "code",
   "execution_count": null,
   "id": "f8daec94",
   "metadata": {},
   "outputs": [],
   "source": [
    "metrics = MetricCollection([\n",
    "            JaccardIndex(task=\"multiclass\", average=\"none\", num_classes=3, ignore_index=3),\n",
    "            Precision(task=\"multiclass\", average=\"none\", num_classes=3, ignore_index=3),\n",
    "            Recall(task=\"multiclass\", average=\"none\", num_classes=3, ignore_index=3)\n",
    "        ]).to(device)"
   ]
  },
  {
   "cell_type": "code",
   "execution_count": null,
   "id": "dba9f0de",
   "metadata": {},
   "outputs": [],
   "source": [
    "# training loop\n",
    "all_tps = 0\n",
    "    all_fps = 0\n",
    "    all_fns = 0\n",
    "    for batch in tqdm(dl):\n",
    "        images = batch[\"image\"].to(device)\n",
    "        masks = batch[\"mask\"].to(device)\n",
    "        with torch.inference_mode():\n",
    "            outputs = model(images)\n",
    "\n",
    "        outputs = outputs.argmax(dim=1)\n",
    "\n",
    "        if model_predicts_3_classes:\n",
    "            new_outputs = torch.zeros(outputs.shape[0], outputs.shape[1], outputs.shape[2], device=device)\n",
    "            new_outputs[outputs == 2] = 0  # Boundary pixels\n",
    "            new_outputs[outputs == 0] = 0  # Background pixels\n",
    "            new_outputs[outputs == 1] = 1  # Crop pixels\n",
    "            outputs = new_outputs\n",
    "        else:\n",
    "            if test_on_3_classes:\n",
    "                raise ValueError(\"Cannot test on 3 classes when the model was trained on 2 classes\")\n",
    "\n",
    "        metrics.update(outputs, masks)\n",
    "        outputs = outputs.cpu().numpy().astype(np.uint8)\n",
    "        masks = masks.cpu().numpy().astype(np.uint8)\n",
    "\n",
    "        for i in range(len(outputs)):\n",
    "            output = outputs[i]\n",
    "            mask = masks[i]\n",
    "            if postprocess:\n",
    "                post_processed_output = out.copy()\n",
    "                output = post_processed_output\n",
    "            tps, fps, fns = get_object_level_metrics(mask, output, iou_threshold=iou_threshold)\n",
    "            all_tps += tps\n",
    "            all_fps += fps\n",
    "            all_fns += fns\n",
    "\n",
    "    results = metrics.compute()\n",
    "    pixel_level_iou = results[\"MulticlassJaccardIndex\"][1].item()\n",
    "    pixel_level_precision = results[\"MulticlassPrecision\"][1].item()\n",
    "    pixel_level_recall = results[\"MulticlassRecall\"][1].item()\n",
    "\n",
    "    if all_tps + all_fps > 0:\n",
    "        object_precision = all_tps / (all_tps + all_fps)\n",
    "    else:\n",
    "        object_precision = float('nan')\n",
    "\n",
    "    if all_tps + all_fns > 0:\n",
    "        object_recall = all_tps / (all_tps + all_fns)\n",
    "    else:\n",
    "        object_recall = float('nan')\n",
    "\n",
    "    print(f\"Pixel level IoU: {pixel_level_iou:.4f}\")\n",
    "    print(f\"Pixel level precision: {pixel_level_precision:.4f}\")\n",
    "    print(f\"Pixel level recall: {pixel_level_recall:.4f}\")\n",
    "    print(f\"Object level precision: {object_precision:.4f}\")\n",
    "    print(f\"Object level recall: {object_recall:.4f}\")\n",
    "\n",
    "    if out is not None:\n",
    "        if not os.path.exists(out):\n",
    "            with open(out, \"w\") as f:\n",
    "                f.write(\"train_checkpoint,test_countries,pixel_level_iou,pixel_level_precision,pixel_level_recall,object_level_precision,object_level_recall\\n\")\n",
    "        with open(out, \"a\") as f:\n",
    "            f.write(f\"{model},{countries},{pixel_level_iou},{pixel_level_precision},{pixel_level_recall},{object_precision},{object_recall}\\n\")\n"
   ]
  }
 ],
 "metadata": {
  "kernelspec": {
   "display_name": "ftw_fieldmapper",
   "language": "python",
   "name": "python3"
  },
  "language_info": {
   "codemirror_mode": {
    "name": "ipython",
    "version": 3
   },
   "file_extension": ".py",
   "mimetype": "text/x-python",
   "name": "python",
   "nbconvert_exporter": "python",
   "pygments_lexer": "ipython3",
   "version": "3.10.17"
  }
 },
 "nbformat": 4,
 "nbformat_minor": 5
}
