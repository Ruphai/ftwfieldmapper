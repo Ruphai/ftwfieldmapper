{
 "cells": [
  {
   "cell_type": "markdown",
   "id": "eb4fb513",
   "metadata": {},
   "source": [
    "# Field Boundary Segmentation using FTW and FieldMapper\n",
    "## Project Description\n",
    "In the field of applying Deep Learning to Earth Observation datasets, the evolution of labels and their corresponding scarcity, particularly in certain regions and ecosystems, demands the use of transductive transfer learning approaches. In Agricultural Field Boundary Delineation, very limited large-scale field crop maps are openly available. In this task, we will leverage the availability of large-scale datasets and corresponding models to experiments with the capabilities of these models to transfer to new areas and ecosystems. We will leverage a mix of end-to-end learning using a modified version of the UNet Model developed by the Agriculutral Impact Research Groups for Field Boundary Delineation and a transfer learning approach built on the trained UNet models for the FTW datasets. These would be tested with different transfer learning approaches such as: 1.) Random Initialization, 2.) Frozen Encoder, and 3.) Unfrozen Encoder. These respective Experiments would be performed using the Field of the World Datasets for Pretraining and Lacuna Labels for finetuning. For comparison, the Lacuna models would be adapted to train on the FTW datasets and a corresponding finetuning experiment would be carried out. The expected outcome is a transferable model for capturing agricultural fields in Africa at high-resolution, leveraging the learned parameters from FTW datasets. \n",
    "\n",
    "\n",
    "## Task Distribution\n",
    "The team members working on this project include: 1.) Rufai Omowunmi Balogun, 2.) Tanmoy Chakraborty, and 3.) Isaiah Taylor. The expected task distribution for the team would be:\n",
    "\n",
    "1.\tRufai Omowunmi Balogun – experiment with the End-to-End Learning for AgroImpact Models on FTW datasets + Data Engineering\n",
    "2.\tTanmoy Chakraborty – experiment with the Finetuning of FTW Models on AgroImpact datasets+ Data Engineering\n",
    "3.\tIsaiah Taylor: Finetuning the AgroImpacts Models after training on the FTW datasets + Data Engineering and Project Documentation. \n",
    "\n",
    "**End to End Learning** involves training the models from scratch using the provided datasets in the Field of the World Data Repository, and testing it on the different data split provided by FTW and finetuning for the Lacuna Labels projects. \n",
    "\n",
    "The **Data Engineering** task involves all the steps in accessing, loading, and designing the respective datasets to fits into the corresponding modelling tasks, including relevant augmentations, feature enhancement and scaling. \n",
    "\n",
    "**Project Documentation** would involve the documentation on essential steps necessary for reproducing the different modelling pipelines and a quickstart on how to visualize the model output for segmented fields. \n",
    "\n",
    "The data access pipeline can be to integrated into a dataloader since the Input bands are similar with 4 bands each (Red, Green, Blue, and Near IR). However, the FTW dataset has 2 time-steps (which should be adapted accordingly for the respective models to enhance compatibility). \n",
    "\n",
    "## References\n",
    "-\t[Fields of the World](https://source.coop/repositories/kerner-lab/fields-of-the-world/description)\n",
    "-\t[Lacuna Labels](https://registry.opendata.aws/africa-field-boundary-labels/)"
   ]
  }
 ],
 "metadata": {
  "kernelspec": {
   "display_name": "Python 3 (ipykernel)",
   "language": "python",
   "name": "python3"
  },
  "language_info": {
   "codemirror_mode": {
    "name": "ipython",
    "version": 3
   },
   "file_extension": ".py",
   "mimetype": "text/x-python",
   "name": "python",
   "nbconvert_exporter": "python",
   "pygments_lexer": "ipython3",
   "version": "3.10.17"
  }
 },
 "nbformat": 4,
 "nbformat_minor": 5
}
